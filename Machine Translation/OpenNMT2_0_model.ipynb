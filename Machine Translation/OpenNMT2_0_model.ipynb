{
  "cells": [
    {
      "cell_type": "markdown",
      "metadata": {
        "id": "x8UxWTjjaBtS"
      },
      "source": [
        "0. Let's mount our drive"
      ]
    },
    {
      "cell_type": "code",
      "execution_count": null,
      "metadata": {
        "colab": {
          "base_uri": "https://localhost:8080/"
        },
        "id": "kadNpfqGYojc",
        "outputId": "3612b288-8e27-44d7-8257-a15a159a1fd5"
      },
      "outputs": [],
      "source": [
        " from google.colab import drive\n",
        "drive.mount('/content/drive')"
      ]
    },
    {
      "cell_type": "markdown",
      "metadata": {
        "id": "-ow3GQ_t2fJj"
      },
      "source": [
        "1. Download and install OpenNMT-py 2.0\n",
        "\n"
      ]
    },
    {
      "cell_type": "code",
      "execution_count": null,
      "metadata": {
        "colab": {
          "base_uri": "https://localhost:8080/"
        },
        "id": "A_3sqDov71sw",
        "outputId": "e14f1577-1886-42d9-a914-191f9bd2842d"
      },
      "outputs": [],
      "source": [
        "!pip install --upgrade pip"
      ]
    },
    {
      "cell_type": "code",
      "execution_count": null,
      "metadata": {
        "colab": {
          "base_uri": "https://localhost:8080/"
        },
        "id": "7ihuxv7t2btr",
        "outputId": "8317cc37-beba-4ad4-d9b2-22208e7de134"
      },
      "outputs": [],
      "source": [
        "!pip install OpenNMT-py"
      ]
    },
    {
      "cell_type": "markdown",
      "metadata": {
        "id": "2Qw9kZlzTCzS"
      },
      "source": [
        "Let's install some libraries:"
      ]
    },
    {
      "cell_type": "code",
      "execution_count": null,
      "metadata": {
        "colab": {
          "base_uri": "https://localhost:8080/"
        },
        "id": "5efNksseTCX2",
        "outputId": "d78d55c7-d4dc-404c-8bfb-0dfabfb3529f"
      },
      "outputs": [],
      "source": [
        "!pip install sacremoses"
      ]
    },
    {
      "cell_type": "code",
      "execution_count": 5,
      "metadata": {
        "id": "7IpB3SuPMqLg"
      },
      "outputs": [],
      "source": [
        "MYCLASSFOLDER=\"SE_personal\"\n",
        "import os\n",
        "os.environ['PATH'] += \":/content/drive/MyDrive/\" + MYCLASSFOLDER + \"/scripts\""
      ]
    },
    {
      "cell_type": "markdown",
      "metadata": {
        "id": "Eon1xsnR_3OB"
      },
      "source": [
        "2. Let's get some data. We can get any parallel data from, e.g. http://opus.nlpl.eu or you can download the ones I will use for this tutorial.\n",
        "\n",
        "*   English <-> Bulgarian: https://ilk.uvt.nl/~shterion/data/EN-BG.zip\n",
        "*   English <-> Dutch: https://ilk.uvt.nl/~shterion/data/EN-NL.zip\n"
      ]
    },
    {
      "cell_type": "markdown",
      "metadata": {
        "id": "RHwpOT8VAdD2"
      },
      "source": [
        "We should put the data in our drive, otherwise when the session expires we wil lneed to do the same thing again. That is also valid for all models and intermediate processed files."
      ]
    },
    {
      "cell_type": "code",
      "execution_count": null,
      "metadata": {
        "colab": {
          "base_uri": "https://localhost:8080/"
        },
        "id": "FghwjY1xBt1X",
        "outputId": "d4fef770-caff-41c0-a08f-7d7b28d8e59f"
      },
      "outputs": [],
      "source": [
        "!MYCLASSFOLDER=\"SE_personal\"\n",
        "!mkdir /content/drive/MyDrive/$MYCLASSFOLDER/\n",
        "!ls /content/drive/MyDrive/$MYCLASSFOLDER"
      ]
    },
    {
      "cell_type": "code",
      "execution_count": 7,
      "metadata": {
        "colab": {
          "base_uri": "https://localhost:8080/"
        },
        "id": "y-p6gmZyLNjc",
        "outputId": "49cbd252-aa5b-46ac-f2d9-d017a83a8f6b"
      },
      "outputs": [
        {
          "name": "stdout",
          "output_type": "stream",
          "text": [
            "/content/drive/MyDrive/SE_personal\n"
          ]
        }
      ],
      "source": [
        "cd /content/drive/MyDrive/$MYCLASSFOLDER"
      ]
    },
    {
      "cell_type": "code",
      "execution_count": null,
      "metadata": {
        "id": "pNep0nnxNyBK"
      },
      "outputs": [],
      "source": [
        "!mkdir scripts \n",
        "!wget https://ilk.uvt.nl/~shterion/scripts/train_test_dev.py -O scripts/train_test_dev.py\n",
        "!wget https://ilk.uvt.nl/~shterion/scripts/bpe.sh -O scripts/bpe.sh"
      ]
    },
    {
      "cell_type": "markdown",
      "metadata": {
        "id": "kKqQ8LShgAcF"
      },
      "source": [
        "Now let's download scripts for tokenisation and detokanisation:"
      ]
    },
    {
      "cell_type": "code",
      "execution_count": null,
      "metadata": {
        "id": "EtPJpAmKDPkx"
      },
      "outputs": [],
      "source": [
        "!wget https://ilk.uvt.nl/~shterion/scripts/tokenizer.perl -O scripts/tokenizer.perl\n",
        "!wget https://ilk.uvt.nl/~shterion/scripts/detokenize.perl -O scripts/detokenize.perl\n",
        "!wget https://ilk.uvt.nl/~shterion/scripts/nonbreaking_prefixes.zip -O scripts/nonbreaking_prefixes.zip\n",
        "!unzip scripts/nonbreaking_prefixes.zip -d scripts/"
      ]
    },
    {
      "cell_type": "code",
      "execution_count": null,
      "metadata": {
        "id": "dJriuttnLRww"
      },
      "outputs": [],
      "source": [
        "!wget https://ilk.uvt.nl/~shterion/data/EN-NL.zip -O EN-NL.zip\n",
        "!unzip -K EN-NL.zip"
      ]
    },
    {
      "cell_type": "markdown",
      "metadata": {
        "id": "4wUF1YdZEweh"
      },
      "source": [
        "Let's see what we have:"
      ]
    },
    {
      "cell_type": "code",
      "execution_count": null,
      "metadata": {
        "id": "moccXZFzE1Kt"
      },
      "outputs": [],
      "source": [
        "!head -10 EN-NL/data/data.*"
      ]
    },
    {
      "cell_type": "markdown",
      "metadata": {
        "id": "rv8DX-LcF64V"
      },
      "source": [
        "I will continue using the EN-NL, but you can choose whichever you prefer. "
      ]
    },
    {
      "cell_type": "markdown",
      "metadata": {
        "id": "ss05UoIkOD4A"
      },
      "source": [
        "3. Tokenize the data (takes some time)"
      ]
    },
    {
      "cell_type": "code",
      "execution_count": null,
      "metadata": {
        "colab": {
          "base_uri": "https://localhost:8080/"
        },
        "id": "oIDqqGr7jP3O",
        "outputId": "fe9e5bc9-2ddd-4780-e898-ea8bb76fd174"
      },
      "outputs": [],
      "source": [
        "!ls -l\n",
        "!perl scripts/tokenizer.perl -no-escape -l en -threads 16 < EN-NL/data/data.en > EN-NL/data/data.tok.en\n",
        "!perl scripts/tokenizer.perl -no-escape -l nl -threads 16 < EN-NL/data/data.nl > EN-NL/data/data.tok.nl"
      ]
    },
    {
      "cell_type": "markdown",
      "metadata": {
        "id": "oV4OBhIPOYY_"
      },
      "source": [
        "4. Now we need to split the data into train test and development sets. We can do this with the `train_test_dev.py` script provided at: https://ilk.uvt.nl/~shterion/scripts/train_test_dev.py which we downloaded earlier and stored in the `scripts` folder."
      ]
    },
    {
      "cell_type": "code",
      "execution_count": null,
      "metadata": {
        "colab": {
          "base_uri": "https://localhost:8080/"
        },
        "id": "vo4KVsyEPbZB",
        "outputId": "146005c3-b128-416f-b13a-cadd5ad3180a"
      },
      "outputs": [],
      "source": [
        "%run scripts/train_test_dev.py --source=EN-NL/data/data.tok.nl --target=EN-NL/data/data.tok.en "
      ]
    },
    {
      "cell_type": "markdown",
      "metadata": {
        "id": "QfOxiMW0o71V"
      },
      "source": [
        "Ideally, now that we have all the data split into train test and dev, tokenized and cleaned we would need to perform one more preprocessing - to split it into subword units. However, due to the lack of time we will not do that.\n",
        "\n",
        "You can do this at home using the provided `bpe.sh` script (https://ilk.uvt.nl/~shterion/scripts/bpe.sh)"
      ]
    },
    {
      "cell_type": "markdown",
      "metadata": {
        "id": "15CHCduf9eRK"
      },
      "source": [
        "5. Now we need to build a vocabulary - a list of words and their numerical representations that will be used by the NNs. We can do this by running the `onmt_build_vocab` using the configuration file provided with the data in the config folder: `config_vocab.yaml`. \n",
        "\n",
        "! If you are using BPE make sure that the files you use to build the vocabulary have the correct extension. For simplicity, I have provided the `config_vocab_bpe.yaml` file."
      ]
    },
    {
      "cell_type": "code",
      "execution_count": null,
      "metadata": {
        "id": "gQn15gFJEuuO"
      },
      "outputs": [],
      "source": [
        "!onmt_build_vocab -config EN-NL/config/config_vocab.yaml"
      ]
    },
    {
      "cell_type": "markdown",
      "metadata": {
        "id": "vWzine2OPCNh"
      },
      "source": [
        "Let's see what do we have in the vocabulary:"
      ]
    },
    {
      "cell_type": "code",
      "execution_count": null,
      "metadata": {
        "colab": {
          "base_uri": "https://localhost:8080/"
        },
        "id": "y3xXJpTNF4WX",
        "outputId": "584d7428-e599-40a6-9525-a743846b8dad"
      },
      "outputs": [],
      "source": [
        "!wc -l /content/drive/MyDrive/$MYCLASSFOLDER/EN-NL/data/vocab.trg\n",
        "!head /content/drive/MyDrive/$MYCLASSFOLDER/EN-NL/data/vocab.trg"
      ]
    },
    {
      "cell_type": "code",
      "execution_count": null,
      "metadata": {
        "colab": {
          "base_uri": "https://localhost:8080/"
        },
        "id": "dxYLN351Yp-Y",
        "outputId": "a063805b-6787-4e94-8f80-cb4af7060f1e"
      },
      "outputs": [],
      "source": [
        "import csv\n",
        "import sys\n",
        "word_lengths = []\n",
        "csv.field_size_limit(sys.maxsize)\n",
        "\n",
        "i = 0\n",
        "\n",
        "with open(\"/content/drive/MyDrive/SE_personal/EN-NL/data/vocab.trg\") as tsv:\n",
        "    for line in csv.reader(tsv, delimiter=\"\\t\"):\n",
        "      n_words += 1\n",
        "      word_lengths.append(len(line[0]))  \n",
        "\n",
        "\n",
        "\n",
        "average = sum(word_lengths) / len(word_lengths)\n",
        "print(average)\n",
        "  "
      ]
    },
    {
      "cell_type": "markdown",
      "metadata": {
        "id": "7ddoXeB8PPDp"
      },
      "source": [
        "6. Now we can start the training process - takes a loooong time! Be patient! "
      ]
    },
    {
      "cell_type": "code",
      "execution_count": null,
      "metadata": {
        "colab": {
          "base_uri": "https://localhost:8080/"
        },
        "id": "Dq1Ji4_PIS2R",
        "outputId": "aa493c4e-e438-4027-ecfb-73e7d1eafd9d"
      },
      "outputs": [],
      "source": [
        "!onmt_train -config /content/drive/MyDrive/$MYCLASSFOLDER/EN-NL/config/config_train_rnn.yaml -train_from EN-NL/models/model_step_460000.pt"
      ]
    },
    {
      "cell_type": "markdown",
      "metadata": {
        "id": "uyR5I7TZPYvy"
      },
      "source": [
        "7. Now that the training is over we can translate using the model. \n",
        "You can use the `config_trans.yaml` file provided in the config folder. \n",
        "It will translate the test set with the first saved model. Change these to any arbitrary file you wish to translate and to any model you would like to use."
      ]
    },
    {
      "cell_type": "code",
      "execution_count": null,
      "metadata": {
        "colab": {
          "base_uri": "https://localhost:8080/"
        },
        "id": "VA69IxzWPYUG",
        "outputId": "f346a580-1e94-4aac-805e-008458609891"
      },
      "outputs": [],
      "source": [
        "!onmt_translate -config /content/drive/MyDrive/$MYCLASSFOLDER/EN-NL/config/config_trans.yaml"
      ]
    }
  ],
  "metadata": {
    "accelerator": "GPU",
    "colab": {
      "collapsed_sections": [],
      "name": "OpenNMT2_0_model.ipynb",
      "provenance": []
    },
    "kernelspec": {
      "display_name": "Python 3",
      "name": "python3"
    }
  },
  "nbformat": 4,
  "nbformat_minor": 0
}
