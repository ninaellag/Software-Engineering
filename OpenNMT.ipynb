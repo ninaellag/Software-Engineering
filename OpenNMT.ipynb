{
 "cells": [
  {
   "cell_type": "markdown",
   "source": [
    "Source: recording of practical on machine translation"
   ],
   "metadata": {}
  },
  {
   "cell_type": "markdown",
   "source": [
    "## 0. Mount drive\r\n",
    "If running in Google Colab"
   ],
   "metadata": {}
  },
  {
   "cell_type": "code",
   "execution_count": null,
   "source": [
    "#from google.colab import drive\r\n",
    "#drive.mount('/content/drive')"
   ],
   "outputs": [],
   "metadata": {}
  },
  {
   "cell_type": "markdown",
   "source": [
    "## 1. Download and install OpenNMT-py 2.0"
   ],
   "metadata": {}
  },
  {
   "cell_type": "code",
   "execution_count": null,
   "source": [],
   "outputs": [],
   "metadata": {}
  }
 ],
 "metadata": {
  "orig_nbformat": 4,
  "language_info": {
   "name": "python",
   "version": "3.7.4",
   "mimetype": "text/x-python",
   "codemirror_mode": {
    "name": "ipython",
    "version": 3
   },
   "pygments_lexer": "ipython3",
   "nbconvert_exporter": "python",
   "file_extension": ".py"
  },
  "kernelspec": {
   "name": "python3",
   "display_name": "Python 3.7.4 64-bit"
  },
  "interpreter": {
   "hash": "7362c3ffc152b02a92d868f8f436795c527d623e6a4463b6d3cfc46f489c4b31"
  }
 },
 "nbformat": 4,
 "nbformat_minor": 2
}