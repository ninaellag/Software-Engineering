{
  "nbformat": 4,
  "nbformat_minor": 0,
  "metadata": {
    "orig_nbformat": 4,
    "language_info": {
      "name": "python",
      "version": "3.7.4",
      "mimetype": "text/x-python",
      "codemirror_mode": {
        "name": "ipython",
        "version": 3
      },
      "pygments_lexer": "ipython3",
      "nbconvert_exporter": "python",
      "file_extension": ".py"
    },
    "kernelspec": {
      "name": "python3",
      "display_name": "Python 3.7.4 64-bit"
    },
    "interpreter": {
      "hash": "7362c3ffc152b02a92d868f8f436795c527d623e6a4463b6d3cfc46f489c4b31"
    },
    "colab": {
      "name": "OpenNMT.ipynb",
      "provenance": []
    }
  },
  "cells": [
    {
      "cell_type": "markdown",
      "metadata": {
        "id": "KWBnXUFIBXUz"
      },
      "source": [
        "Source: recording of practical on machine translation"
      ]
    },
    {
      "cell_type": "markdown",
      "metadata": {
        "id": "eZCh8se-BXU6"
      },
      "source": [
        "## 0. Mount drive\n",
        "If running in Google Colab"
      ]
    },
    {
      "cell_type": "code",
      "metadata": {
        "colab": {
          "base_uri": "https://localhost:8080/"
        },
        "id": "95YpT9ZoBXU8",
        "outputId": "512753f4-1a5e-4908-825e-f237b3541468"
      },
      "source": [
        "from google.colab import drive\n",
        "drive.mount('/content/drive')"
      ],
      "execution_count": null,
      "outputs": [
        {
          "output_type": "stream",
          "name": "stdout",
          "text": [
            "Mounted at /content/drive\n"
          ]
        }
      ]
    },
    {
      "cell_type": "markdown",
      "metadata": {
        "id": "Ztxt3HB8BXU9"
      },
      "source": [
        "## 1. Download and install OpenNMT-py 2.0"
      ]
    },
    {
      "cell_type": "code",
      "metadata": {
        "id": "I1QOiCKkBXU-"
      },
      "source": [
        "!pip install --upgrade pip"
      ],
      "execution_count": null,
      "outputs": []
    },
    {
      "cell_type": "code",
      "metadata": {
        "id": "_M8Qm6EYBryv"
      },
      "source": [
        "!pip install OpenNMT-py"
      ],
      "execution_count": null,
      "outputs": []
    },
    {
      "cell_type": "code",
      "metadata": {
        "id": "l6UPxq5GB06w"
      },
      "source": [
        "!pip install sacremoses"
      ],
      "execution_count": null,
      "outputs": []
    },
    {
      "cell_type": "code",
      "metadata": {
        "id": "uNM5GFKeB-r6"
      },
      "source": [
        "import os\n",
        "FOLDER = \"SE_personal\"\n",
        "os.environ['PATH'] += \":/content/drive/MyDrive\" + FOLDER + \"/scripts\""
      ],
      "execution_count": null,
      "outputs": []
    },
    {
      "cell_type": "markdown",
      "metadata": {
        "id": "4rA__9ACDGIK"
      },
      "source": [
        "## 2. Data loading\n",
        "Source: https://ilk.uvt.nl/~shterion/data/EN-NL.zip"
      ]
    },
    {
      "cell_type": "code",
      "metadata": {
        "colab": {
          "base_uri": "https://localhost:8080/"
        },
        "id": "k_Ok7rxRDFH0",
        "outputId": "80b28eca-dc8d-42aa-8e98-edcbb58c78b5"
      },
      "source": [
        "%cd /content/drive/MyDrive/$FOLDER/"
      ],
      "execution_count": null,
      "outputs": [
        {
          "output_type": "stream",
          "name": "stdout",
          "text": [
            "/content/drive/MyDrive/SE_personal\n"
          ]
        }
      ]
    },
    {
      "cell_type": "code",
      "metadata": {
        "id": "w3vP_4WbEaWL"
      },
      "source": [
        "!mkdir scripts\n",
        "!wget https://ilk.uvt.nl/~shterion/scripts/train_test_dev.py -o scripts/train_test_dev.py\n",
        "!wget https://ilk.uvt.nl/~shterion/scripts/bpe.sh -o scripts/bpe.sh\n",
        "!wget https://ilk.uvt.nl/~shterion/scripts/tokenizer.perl -o scripts/tokenizer.perl\n",
        "!wget https://ilk.uvt.nl/~shterion/scripts/detokenize.perl -o scripts/detokenize.perl\n",
        "!wget https://ilk.uvt.nl/~shterion/scripts/nonbreaking_prefixes.zip -o scripts/nonbreaking_prefixes.zip\n",
        "!unzip scripts/nonbreaking_prefixes.zip -d scripts/\n",
        "\n"
      ],
      "execution_count": null,
      "outputs": []
    },
    {
      "cell_type": "code",
      "metadata": {
        "id": "nNxH2OLWHkZF"
      },
      "source": [
        ""
      ],
      "execution_count": null,
      "outputs": []
    }
  ]
}